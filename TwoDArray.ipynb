{
 "cells": [
  {
   "attachments": {
    "ae8594c3-ea3f-4bc6-9ed8-422b72f8878e.png": {
     "image/png": "[encoded data removed]"
    }
   },
   "cell_type": "markdown",
   "id": "f4fea1eb",
   "metadata": {
    "papermill": {
     "duration": 0.004931,
     "end_time": "2022-05-23T17:52:25.770867",
     "exception": false,
     "start_time": "2022-05-23T17:52:25.765936",
     "status": "completed"
    },
    "tags": []
   },
   "source": [
    "# TwoDArray\n",
    "Scott Schmidt; Illinois State University; Data Structures\n",
    "\n",
    "* Create a 2D array M of nbRows x nbCols of random intergers between 0 and 9 where nbRows and nbCols are two constant set to 5.\n",
    "* Print out the array M (with \\t between elements), the sum of each row, the sum of each column, the sum lf all elements in the array shown: <br>\n",
    "![image.png](attachment:ae8594c3-ea3f-4bc6-9ed8-422b72f8878e.png)"
   ]
  },
  {
   "cell_type": "code",
   "execution_count": 1,
   "id": "587633d7",
   "metadata": {
    "execution": {
     "iopub.execute_input": "2022-05-23T17:52:25.781097Z",
     "iopub.status.busy": "2022-05-23T17:52:25.780580Z",
     "iopub.status.idle": "2022-05-23T17:52:25.803465Z",
     "shell.execute_reply": "2022-05-23T17:52:25.802562Z"
    },
    "papermill": {
     "duration": 0.03137,
     "end_time": "2022-05-23T17:52:25.806199",
     "exception": false,
     "start_time": "2022-05-23T17:52:25.774829",
     "status": "completed"
    },
    "tags": []
   },
   "outputs": [
    {
     "name": "stdout",
     "output_type": "stream",
     "text": [
      "<class 'numpy.ndarray'>\n",
      "[4 4 6 4 5] |   23\n",
      "[1 3 7 8 2] |   21\n",
      "[3 6 7 4 4] |   24\n",
      "[8 9 3 8 3] |   31\n",
      "[2 5 6 3 7] |   23\n",
      "---------------\n",
      "[18 27 29 27 21] | 122\n"
     ]
    }
   ],
   "source": [
    "import numpy as np\n",
    "rowSize=5\n",
    "colSize=5\n",
    "TwoDArr=np.random.randint(1, 10, size=(rowSize, colSize))\n",
    "print(type(TwoDArr))\n",
    "#print(TwoDArr)\n",
    "\n",
    "rowTotal=0\n",
    "cols=[]\n",
    "\n",
    "for row in TwoDArr:\n",
    "    total=sum(row)\n",
    "    print(row, \"|  \", total)\n",
    "    rowTotal+=total\n",
    "print(\"---------------\")\n",
    "for i in range(colSize):\n",
    "    col= np.sum(TwoDArr, axis = 0)\n",
    "grandTotal=rowTotal+(sum(cols))\n",
    "print(col, \"|\", grandTotal)"
   ]
  }
 ],
 "metadata": {
  "kernelspec": {
   "display_name": "Python 3",
   "language": "python",
   "name": "python3"
  },
  "language_info": {
   "codemirror_mode": {
    "name": "ipython",
    "version": 3
   },
   "file_extension": ".py",
   "mimetype": "text/x-python",
   "name": "python",
   "nbconvert_exporter": "python",
   "pygments_lexer": "ipython3",
   "version": "3.7.12"
  },
  "papermill": {
   "default_parameters": {},
   "duration": 11.103776,
   "end_time": "2022-05-23T17:52:26.534187",
   "environment_variables": {},
   "exception": null,
   "input_path": "__notebook__.ipynb",
   "output_path": "__notebook__.ipynb",
   "parameters": {},
   "start_time": "2022-05-23T17:52:15.430411",
   "version": "2.3.4"
  }
 },
 "nbformat": 4,
 "nbformat_minor": 5
}
