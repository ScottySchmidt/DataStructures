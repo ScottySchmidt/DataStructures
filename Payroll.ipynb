{
 "cells": [
  {
   "cell_type": "markdown",
   "id": "2bf473f0",
   "metadata": {
    "papermill": {
     "duration": 0.007816,
     "end_time": "2022-05-19T15:38:22.779501",
     "exception": false,
     "start_time": "2022-05-19T15:38:22.771685",
     "status": "completed"
    },
    "tags": []
   },
   "source": [
    "# Employee Payroll\n",
    "Illinois State University | DataStructures | Scott Schmidt\n",
    "\n",
    "#### HourlyEmployee Class\n",
    "This class must have exactly the following instance variables (attributes/fields):\n",
    "* name: the full name of the employee\n",
    "* employeeID: the employee’s company ID number (note that this may include letters)\n",
    "* hourlyRate: the amount the employee is paid per hour\n",
    "* accruedLeaveHours: the number of hours of leave the employee has available to use. These will be accrued at the rate of 1 per 8 hours worked (including overtime). Note that partial hours are possible.\n",
    "* annualHoursWorked: the number of hours the employee has worked year-to-date. Only hours actually worked are included, not leave.\n",
    "* annualEarnings: the amount the employee has earned year-to-date."
   ]
  },
  {
   "cell_type": "code",
   "execution_count": 1,
   "id": "ee16eeb3",
   "metadata": {
    "execution": {
     "iopub.execute_input": "2022-05-19T15:38:22.797443Z",
     "iopub.status.busy": "2022-05-19T15:38:22.797077Z",
     "iopub.status.idle": "2022-05-19T15:38:22.827653Z",
     "shell.execute_reply": "2022-05-19T15:38:22.826700Z"
    },
    "papermill": {
     "duration": 0.041535,
     "end_time": "2022-05-19T15:38:22.829886",
     "exception": false,
     "start_time": "2022-05-19T15:38:22.788351",
     "status": "completed"
    },
    "tags": []
   },
   "outputs": [],
   "source": [
    "class HourlyEmployee:\n",
    "    empCount = 0\n",
    "    \"\"\"\n",
    "    A default constructor\n",
    "    A constructor that accepts only the name, id, and hourly rate, setting other fields to 0. This would be appropriately used for new employees.\n",
    "    A constructor that accepts parameter for all instance variables.\n",
    "    \"\"\"\n",
    "    def __init__(self, name=None, employeeID=None, hourlyRate=0,\n",
    "                 accruedLeaveHours=0, annualHoursWorked=0, annualEarnings=0):\n",
    "        self.name = name\n",
    "        self.employeeID=employeeID\n",
    "        self.hourlyRate=hourlyRate\n",
    "        self.accruedLeaveHours=accruedLeaveHours\n",
    "        self.annualHoursWorked=annualHoursWorked\n",
    "        self.annualEarnings=annualEarnings\n",
    "        HourlyEmployee.empCount += 1\n",
    "        print(name, \" added with id \", employeeID, \" $\", hourlyRate)\n",
    "        \n",
    "    def getEmployeeID(self):\n",
    "        \"\"\"\n",
    "        getEmployeeID\n",
    "        :return employeeID\n",
    "        \"\"\"\n",
    "        return self.employeeID\n",
    "        \n",
    "    def toString(self):\n",
    "        \"\"\"\n",
    "        toString  \n",
    "        :returns the data with labels and formatting that matches the sample output.\n",
    "        \"\"\"\n",
    "        return self.name,  self.employeeID,  self.hourlyRate, self.accruedLeaveHours, self.annualHoursWorked, self.annualEarnings\n",
    "    \n",
    "    def read(self, file):\n",
    "        \"\"\"\n",
    "        A read method that accepts a Scanner and reads the data for the employee from the Scanner. \n",
    "        Information about an employee will be stored on two lines. \n",
    "        The first will contain the employee’s name.\n",
    "        The second will have the remaining data in the order listed above. \n",
    "        See the sample files provided. \n",
    "        You should assume that the id will never contain spaces.\n",
    "        \"\"\"\n",
    "        try:\n",
    "            print(\"Reading File\")\n",
    "            f = open(file, 'r')\n",
    "            lines = f.readlines() # get all lines as a list (array)\n",
    "            listOfLists=[]\n",
    "            \n",
    "            for line in lines:\n",
    "                name=None\n",
    "                count=0\n",
    "                if count==0:\n",
    "                    name=line[:-1]\n",
    "                    count=count+1\n",
    "                elif count==1:\n",
    "                    info=line\n",
    "                    split=info.split(\" \")\n",
    "                    empID=split[0]\n",
    "                    hourlyRate=float(info[1])\n",
    "                    accruedLeaveHours=float(info[2])\n",
    "                    annualHoursWorked=float(info[3])\n",
    "                    annualEarnings=float(info[4])\n",
    "                    count=0\n",
    "                    tempList=[name, empID, hourlyRate, accruedLeaveHours,\n",
    "                                  annualHoursWorked, annualEarnings]\n",
    "                    #print(tempList)\n",
    "                    listOfLists.append(tempList)\n",
    "                    name=None\n",
    "            f.close()\n",
    "            print(\"File Closed.\")\n",
    "            return listOfLists\n",
    "        except FileNotFoundError:\n",
    "            print(file, \" file not found\")\n",
    "        except OSError:\n",
    "            print(file, \" file error\")\n",
    "\n",
    "    #PrintWriter and writes the data to that PrintWriter in the same format as it is read.\n",
    "    def write(self, file):\n",
    "        \"\"\"\n",
    "        Write method that accepts a Scanner and reads the data for the employee from the Scanner. \n",
    "        Information about an employee will be stored on two lines. \n",
    "        The first will contain the employee’s name.\n",
    "        The second will have the remaining data in the order listed above. \n",
    "        See the sample files provided. \n",
    "        You should assume that the id will never contain spaces.\n",
    "        \"\"\"\n",
    "        try:\n",
    "            f = open(file, \"a\")\n",
    "            f.write(\"Now the file has more content!\")\n",
    "            f.close()\n",
    "            print(\"writing on file: \", file)\n",
    "        except FileNotFoundError:\n",
    "            print(file, \" file not found\")\n",
    "        except OSError:\n",
    "            print(file, \" file error\")\n",
    "    \n",
    "    def handlePay(self, weeklyHours, accruedLeaveHours):\n",
    "        \"\"\"\n",
    "        handlePay will compute pay; update leave accrued, annual hours worked, annual earnings.\n",
    "        :param1: weeklyHours: the number of hours worked for the week \n",
    "        :param2: accruedLeaveHours: the amount of leave used that week\n",
    "    \n",
    "        Output the following information:\n",
    "        <name> earned <pay for the week> and has <accrued leave> hours of leave accrued.\n",
    "        \"\"\"\n",
    "        self.annualHoursWorked+=weeklyHours\n",
    "        \n",
    "        weeklyPay=0\n",
    "        if weeklyHours<40:\n",
    "            weeklyPay=annualHoursWorked*self.hourlyRate\n",
    "        else:\n",
    "            overtimeHours=weeklyHours-20\n",
    "            overtimePay=overtimeHours*self.hourlyRate\n",
    "            weeklyPay=(self.annualHoursWorked*self.hourlyRate)+overtimePay\n",
    "        \n",
    "        self.accruedLeaveHours-=accruedLeaveHours\n",
    "\n",
    "        print(self.name, \" earned \", weeklyPay, \" and has \",\n",
    "              self.accruedLeaveHours, \" hours of leave accrued.\")"
   ]
  },
  {
   "cell_type": "markdown",
   "id": "08baa219",
   "metadata": {
    "papermill": {
     "duration": 0.007057,
     "end_time": "2022-05-19T15:38:22.844627",
     "exception": false,
     "start_time": "2022-05-19T15:38:22.837570",
     "status": "completed"
    },
    "tags": []
   },
   "source": [
    "#### Payroll Class\n",
    "The Payroll class must have the following instance variables:\n",
    "* An array of HourlyEmployee objects that the Payroll object manages\n",
    "* The number of employees currently in the Payroll\n",
    "\n",
    "You may assume that there will never be more than 100 employees."
   ]
  },
  {
   "cell_type": "code",
   "execution_count": 2,
   "id": "08128c26",
   "metadata": {
    "execution": {
     "iopub.execute_input": "2022-05-19T15:38:22.860406Z",
     "iopub.status.busy": "2022-05-19T15:38:22.859939Z",
     "iopub.status.idle": "2022-05-19T15:38:22.867857Z",
     "shell.execute_reply": "2022-05-19T15:38:22.866963Z"
    },
    "papermill": {
     "duration": 0.018293,
     "end_time": "2022-05-19T15:38:22.869929",
     "exception": false,
     "start_time": "2022-05-19T15:38:22.851636",
     "status": "completed"
    },
    "tags": []
   },
   "outputs": [],
   "source": [
    "class Payroll:\n",
    "    HourlyEmployee=[]\n",
    "    \n",
    "    #A default constructor\n",
    "    def __init__(self):\n",
    "        pass\n",
    "     \n",
    "    def readFile(self, file):\n",
    "        \"\"\"\n",
    "        A readFile method that accepts a file name parameter (as a String) \n",
    "        and reads the Employee data in the file into the array of employees. \n",
    "        The file will data will be in the format expected by the HourlyEmployee’s read method. \n",
    "        This method must replace any previous contents of the array.\n",
    "        \"\"\"\n",
    "        try:\n",
    "            f = open(file, 'r').read()\n",
    "            return f\n",
    "        except FileNotFoundError:\n",
    "            print(file, \" file not found\")\n",
    "        except OSError:\n",
    "            print(file, \" file error\")\n",
    "      \n",
    "    def writeFile(self, file): \n",
    "        \"\"\"\n",
    "        writeFile employee array to the corresponding file in the \n",
    "        format used by the HourlyEmployee’s read and write methods.\n",
    "        :param: String file \n",
    "        \"\"\"\n",
    "        try:\n",
    "            f = open(file, \"a\")\n",
    "            f.write(\"Now the file has more content!\")\n",
    "            f.close()\n",
    "            print(\"writing on file: \", file)\n",
    "        except FileNotFoundError:\n",
    "            print(file, \" file not found\")\n",
    "        except OSError:\n",
    "            print(file, \" file error\")\n",
    "\n",
    "    def addEmployee():\n",
    "        \"\"\"\n",
    "        addEmployee will add an employee to the array\n",
    "        @param HourlyEmployee\n",
    "        \"\"\"\n",
    "        pass\n",
    "    \n",
    "    def displayEmployee(employeeID):\n",
    "        \"\"\"\n",
    "        displayEmployee displays the employee to the screen in the format of the HourlyEmployee toString.\n",
    "        :param: String employee id \n",
    "        \"\"\"\n",
    "        pass\n",
    "    \n",
    "    def displayEmployees():\n",
    "        \"\"\"\n",
    "        displayEmployees A displayAllEmployees method that displays all of the employees in \n",
    "        the array to the screen in the format of the HourlyEmployee toString.\n",
    "        \"\"\"\n",
    "        pass\n",
    " \n",
    "    def runPayroll(file):\n",
    "        \"\"\"\n",
    "        runPayroll method that accepts a file name parameter (as a String) \n",
    "        and handles weekly payroll based on the information in the file. \n",
    "        Each line of the file will have an employee id followed by the number of hours worked \n",
    "        and the number of hours of leave used that week.\n",
    "        The method will handle the pay for each employee who worked that week using the information from the file. \n",
    "        If the file is not found, the method should print an error message, but should not exit the program.\n",
    "        \"\"\"\n",
    "        pass"
   ]
  },
  {
   "cell_type": "markdown",
   "id": "4a35a7b0",
   "metadata": {
    "papermill": {
     "duration": 0.006692,
     "end_time": "2022-05-19T15:38:22.883578",
     "exception": false,
     "start_time": "2022-05-19T15:38:22.876886",
     "status": "completed"
    },
    "tags": []
   },
   "source": [
    "# EmployeeTester"
   ]
  },
  {
   "cell_type": "code",
   "execution_count": 3,
   "id": "2f590198",
   "metadata": {
    "execution": {
     "iopub.execute_input": "2022-05-19T15:38:22.899766Z",
     "iopub.status.busy": "2022-05-19T15:38:22.899344Z",
     "iopub.status.idle": "2022-05-19T15:38:22.919151Z",
     "shell.execute_reply": "2022-05-19T15:38:22.918587Z"
    },
    "papermill": {
     "duration": 0.031589,
     "end_time": "2022-05-19T15:38:22.922469",
     "exception": false,
     "start_time": "2022-05-19T15:38:22.890880",
     "status": "completed"
    },
    "tags": []
   },
   "outputs": [
    {
     "name": "stdout",
     "output_type": "stream",
     "text": [
      "John Doe  added with id  B0001  $ 20\n",
      "ID (should be B0001): B0001\n",
      "Margaret Brennan  added with id  A1000  $ 15\n",
      "John Doe  earned  2200  and has  10  hours of leave accrued.\n",
      "('John Doe', 'B0001', 20, 10, 90, 1000)\n",
      "Margaret Brennan  earned  1050  and has  0  hours of leave accrued.\n",
      "('Margaret Brennan', 'A1000', 15, 0, 45, 0)\n",
      "None  added with id  None  $ 0\n",
      "Reading File\n",
      "File Closed.\n"
     ]
    }
   ],
   "source": [
    "if __name__ == \"__main__\":\n",
    "    #create an employee using all arguments\n",
    "    emp1=HourlyEmployee(\"John Doe\", \"B0001\", 20, 10, 50, 1000);\n",
    "    print(\"ID (should be B0001): \" + emp1.getEmployeeID());\n",
    "    \n",
    "     #create a new employee -- no history\n",
    "    emp2 = HourlyEmployee(\"Margaret Brennan\", \"A1000\", 15);\n",
    "    \n",
    "    #now we need to test the handle pay method\n",
    "    #first a simple case -- emp1 works 40 hours, using no leave\n",
    "    emp1.handlePay(40, 0);\n",
    "    #be sure to print the toString to make sure the object was updated correctly\n",
    "    print(emp1.toString());\n",
    "\n",
    "    #then a case overtime using no leave, emp2 works 45 hours, using no leave\n",
    "    emp2.handlePay(45, 0)\n",
    "    print(emp2.toString());\n",
    "    \n",
    "    #Now let's do a case where the leave is more than the employee has available\n",
    "    #emp3 works 24 hours, using 16 hours leave\n",
    "    empFile1=r'/kaggle/input/paydata/empData1.txt'\n",
    "    empList=HourlyEmployee().read(empFile1)\n",
    "    \n",
    "    #emp3.handlePay(24, 16)\n",
    "\n",
    "    #Now we need a case where the leave is limited because it pushed the total over 40 hours\n",
    "    #emp4 works 39 hours, using 2 hours leave\n",
    "\n",
    "\n",
    "    #And finally we need a case where the leave is limited for both reasons\n",
    "    #emp5 works 25 hours, using 25 hours leave\n",
    "\n",
    "    #Finally, let's make sure we can read in what we wrote -- we'll just do the first two\n",
    "    #this time we'll do everything in the try"
   ]
  },
  {
   "cell_type": "markdown",
   "id": "4ccaf88a",
   "metadata": {
    "papermill": {
     "duration": 0.011377,
     "end_time": "2022-05-19T15:38:22.945237",
     "exception": false,
     "start_time": "2022-05-19T15:38:22.933860",
     "status": "completed"
    },
    "tags": []
   },
   "source": [
    "# PayrollTester"
   ]
  },
  {
   "cell_type": "code",
   "execution_count": 4,
   "id": "4a36d996",
   "metadata": {
    "execution": {
     "iopub.execute_input": "2022-05-19T15:38:22.968002Z",
     "iopub.status.busy": "2022-05-19T15:38:22.967551Z",
     "iopub.status.idle": "2022-05-19T15:38:22.992534Z",
     "shell.execute_reply": "2022-05-19T15:38:22.992051Z"
    },
    "papermill": {
     "duration": 0.03889,
     "end_time": "2022-05-19T15:38:22.994821",
     "exception": false,
     "start_time": "2022-05-19T15:38:22.955931",
     "status": "completed"
    },
    "tags": []
   },
   "outputs": [
    {
     "name": "stdout",
     "output_type": "stream",
     "text": [
      "writing on file:  demofile2.txt\n"
     ]
    }
   ],
   "source": [
    "if __name__ == \"__main__\":\n",
    "    payFile1='/kaggle/input/paydata/paydata1.txt'\n",
    "    payFile2='/kaggle/input/paydata/paydata2.txt'\n",
    "    payFile3='/kaggle/input/paydata/paydata3.txt'\n",
    "   \n",
    "    payroll=Payroll()\n",
    "    payroll.readFile(payFile1)\n",
    "    payroll.readFile(payFile2)\n",
    "    payroll.readFile(payFile3)\n",
    "    payroll.writeFile(\"demofile2.txt\")"
   ]
  }
 ],
 "metadata": {
  "kernelspec": {
   "display_name": "Python 3",
   "language": "python",
   "name": "python3"
  },
  "language_info": {
   "codemirror_mode": {
    "name": "ipython",
    "version": 3
   },
   "file_extension": ".py",
   "mimetype": "text/x-python",
   "name": "python",
   "nbconvert_exporter": "python",
   "pygments_lexer": "ipython3",
   "version": "3.7.12"
  },
  "papermill": {
   "default_parameters": {},
   "duration": 10.142248,
   "end_time": "2022-05-19T15:38:23.726731",
   "environment_variables": {},
   "exception": null,
   "input_path": "__notebook__.ipynb",
   "output_path": "__notebook__.ipynb",
   "parameters": {},
   "start_time": "2022-05-19T15:38:13.584483",
   "version": "2.3.4"
  }
 },
 "nbformat": 4,
 "nbformat_minor": 5
}
