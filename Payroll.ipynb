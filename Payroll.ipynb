{
 "cells": [
  {
   "cell_type": "markdown",
   "id": "03f2f771",
   "metadata": {
    "papermill": {
     "duration": 0.012116,
     "end_time": "2022-05-18T13:58:08.208958",
     "exception": false,
     "start_time": "2022-05-18T13:58:08.196842",
     "status": "completed"
    },
    "tags": []
   },
   "source": [
    "# Employee Payroll\n",
    "Illinois State University; Scott Schmidt\n",
    "\n",
    "### HourlyEmployee Class\n",
    "This class must have exactly the following instance variables (attributes/fields):\n",
    "* name: the full name of the employee\n",
    "* employeeID: the employee’s company ID number (note that this may include letters)\n",
    "* hourlyRate: the amount the employee is paid per hour\n",
    "* accruedLeaveHours: the number of hours of leave the employee has available to use. These will be accrued at the rate of 1 per 8 hours worked (including overtime). Note that partial hours are possible.\n",
    "* annualHoursWorked: the number of hours the employee has worked year-to-date. Only hours actually worked are included, not leave.\n",
    "* annualEarnings: the amount the employee has earned year-to-date."
   ]
  },
  {
   "cell_type": "code",
   "execution_count": 1,
   "id": "0831efc5",
   "metadata": {
    "execution": {
     "iopub.execute_input": "2022-05-18T13:58:08.225434Z",
     "iopub.status.busy": "2022-05-18T13:58:08.224515Z",
     "iopub.status.idle": "2022-05-18T13:58:08.244512Z",
     "shell.execute_reply": "2022-05-18T13:58:08.243897Z"
    },
    "papermill": {
     "duration": 0.030719,
     "end_time": "2022-05-18T13:58:08.246674",
     "exception": false,
     "start_time": "2022-05-18T13:58:08.215955",
     "status": "completed"
    },
    "tags": []
   },
   "outputs": [],
   "source": [
    "class HourlyEmployee:\n",
    "    empCount = 0\n",
    "    \n",
    "     # default constructor\n",
    "    def __init__(self, name, employeeID, hourlyRate, accruedLeaveHours, \n",
    "                 annualHoursWorked, annualEarnings):\n",
    "        self.name = name\n",
    "        self.employeeID=employeeID\n",
    "        self.hourlyRate=hourlyRate\n",
    "        self.accruedLeaveHours=accruedLeaveHours\n",
    "        self.annualHoursWorked=annualHoursWorked\n",
    "        self.annualEarnings=annualEarnings\n",
    "        HourlyEmployee.empCount += 1\n",
    "        \n",
    "    #A getter for the id.\n",
    "    def getEmployeeID(self):\n",
    "        return self.employeeID\n",
    "        \n",
    "    #A toString method that returns the data with labels and formatting that matches the sample output.\n",
    "    def toString(self):\n",
    "        return name, \" name:\", employeeID, \" hourlyRate:\", hourlyRate\n",
    "    \n",
    "    '''\n",
    "    A read method that accepts a Scanner and reads the data for the employee from the Scanner. \n",
    "    Information about an employee will be stored on two lines. \n",
    "    The first will contain the employee’s name.\n",
    "    The second will have the remaining data in the order listed above. \n",
    "    See the sample files provided. \n",
    "    You should assume that the id will never contain spaces.\n",
    "    '''\n",
    "    def read(file):\n",
    "        f = open(f, \"r\")\n",
    "        print(f.read())\n",
    "\n",
    "    #PrintWriter and writes the data to that PrintWriter in the same format as it is read.\n",
    "    def write(self):\n",
    "        pass\n",
    "    \n",
    "    '''\n",
    "    Two parameters: the number of hours worked for the week, and the amount of leave used that week.\n",
    "    The method will compute pay; update leave accrued, annual hours worked, and annual earnings; and output the following information:\n",
    "    '''\n",
    "    def handlePay():\n",
    "        pass"
   ]
  },
  {
   "cell_type": "markdown",
   "id": "9f540bb0",
   "metadata": {
    "papermill": {
     "duration": 0.006521,
     "end_time": "2022-05-18T13:58:08.260049",
     "exception": false,
     "start_time": "2022-05-18T13:58:08.253528",
     "status": "completed"
    },
    "tags": []
   },
   "source": [
    "### Payroll Class\n",
    "The Payroll class must have the following instance variables:\n",
    "* An array of HourlyEmployee objects that the Payroll object manages\n",
    "* The number of employees currently in the Payroll\n",
    "\n",
    "You may assume that there will never be more than 100 employees."
   ]
  },
  {
   "cell_type": "code",
   "execution_count": 2,
   "id": "e751e818",
   "metadata": {
    "execution": {
     "iopub.execute_input": "2022-05-18T13:58:08.274915Z",
     "iopub.status.busy": "2022-05-18T13:58:08.274581Z",
     "iopub.status.idle": "2022-05-18T13:58:08.283019Z",
     "shell.execute_reply": "2022-05-18T13:58:08.282195Z"
    },
    "papermill": {
     "duration": 0.018026,
     "end_time": "2022-05-18T13:58:08.284791",
     "exception": false,
     "start_time": "2022-05-18T13:58:08.266765",
     "status": "completed"
    },
    "tags": []
   },
   "outputs": [],
   "source": [
    "class Payroll:\n",
    "    HourlyEmployee=[]\n",
    "    \n",
    "    #A default constructor\n",
    "    def __init__(self, array):\n",
    "        self.array=array\n",
    "     \n",
    "    '''\n",
    "    A readFile method that accepts a file name parameter (as a String) \n",
    "    and reads the Employee data in the file into the array of employees. \n",
    "    The file will data will be in the format expected by the HourlyEmployee’s read method. \n",
    "    This method must replace any previous contents of the array.\n",
    "    '''\n",
    "    \n",
    "    def readFile(file):\n",
    "        f = open(file, 'r')\n",
    "        print(f.read())\n",
    "    \n",
    "    '''\n",
    "    A writeFile method that accepts a file name parameter (as a String) and writes out the information in the employee array to the corresponding file\n",
    "    in the format used by the HourlyEmployee’s read and write methods.\n",
    "    '''\n",
    "    def writeFile(outfile):\n",
    "        pass\n",
    "    \n",
    "    '''\n",
    "    An addEmployee method that accepts an HourlyEmployee parameter and add that employee to the array.\n",
    "    '''\n",
    "    def addEmployee():\n",
    "        pass\n",
    "    \n",
    "    '''\n",
    "    A displayEmployee method that accepts a String parameter that is an employee id \n",
    "    and displays the employee to the screen in the format of the HourlyEmployee toString.\n",
    "    '''\n",
    "    def displayEmployee(employeeID):\n",
    "        pass\n",
    "    \n",
    "    '''\n",
    "    A displayAllEmployees method that displays all of the employees in \n",
    "    the array to the screen in the format of the HourlyEmployee toString.\n",
    "    '''\n",
    "    def displayEmployees():\n",
    "        pass\n",
    "    \n",
    "    '''\n",
    "    A runPayroll method that accepts a file name parameter (as a String) \n",
    "    and handles weekly payroll based on the information in the file. \n",
    "    Each line of the file will have an employee id followed by the number of hours worked and the number of hours of leave used that week.\n",
    "    The method will handle the pay for each employee who worked that week using the information from the file. \n",
    "    If the file is not found, the method should print an error message, \n",
    "    but should not exit the program.\n",
    "    '''\n",
    "    def runPayroll(file):\n",
    "        pass"
   ]
  },
  {
   "cell_type": "code",
   "execution_count": 3,
   "id": "d990753f",
   "metadata": {
    "execution": {
     "iopub.execute_input": "2022-05-18T13:58:08.301479Z",
     "iopub.status.busy": "2022-05-18T13:58:08.300814Z",
     "iopub.status.idle": "2022-05-18T13:58:08.308813Z",
     "shell.execute_reply": "2022-05-18T13:58:08.307500Z"
    },
    "papermill": {
     "duration": 0.020251,
     "end_time": "2022-05-18T13:58:08.311966",
     "exception": false,
     "start_time": "2022-05-18T13:58:08.291715",
     "status": "completed"
    },
    "tags": []
   },
   "outputs": [
    {
     "name": "stdout",
     "output_type": "stream",
     "text": [
      "ID (should be B0001): B0001\n"
     ]
    }
   ],
   "source": [
    "if __name__ == \"__main__\":\n",
    "    #create an employee using all arguments\n",
    "    #HourlyEmployee emp1 = new HourlyEmployee(\"John Doe\", \"B0001\", 20, 10, 50, 1000);\n",
    "    emp1=HourlyEmployee(\"John Doe\", \"B0001\", 20, 10, 50, 1000);\n",
    "    #emp2=HourlyEmployee(\"Margaret Brennan\", \"A1000\", 15);\n",
    "\n",
    "    print(\"ID (should be B0001): \" + emp1.getEmployeeID());\n",
    "    \n",
    "    file='/kaggle/input/paydata/paydata1.txt'\n",
    "    \n"
   ]
  },
  {
   "cell_type": "code",
   "execution_count": 4,
   "id": "4d520abb",
   "metadata": {
    "execution": {
     "iopub.execute_input": "2022-05-18T13:58:08.333780Z",
     "iopub.status.busy": "2022-05-18T13:58:08.333429Z",
     "iopub.status.idle": "2022-05-18T13:58:08.339585Z",
     "shell.execute_reply": "2022-05-18T13:58:08.338728Z"
    },
    "papermill": {
     "duration": 0.020682,
     "end_time": "2022-05-18T13:58:08.342673",
     "exception": false,
     "start_time": "2022-05-18T13:58:08.321991",
     "status": "completed"
    },
    "tags": []
   },
   "outputs": [],
   "source": [
    "f=\"/kaggle/input/payrolldata/empData1.txt\"\n",
    "\n"
   ]
  }
 ],
 "metadata": {
  "kernelspec": {
   "display_name": "Python 3",
   "language": "python",
   "name": "python3"
  },
  "language_info": {
   "codemirror_mode": {
    "name": "ipython",
    "version": 3
   },
   "file_extension": ".py",
   "mimetype": "text/x-python",
   "name": "python",
   "nbconvert_exporter": "python",
   "pygments_lexer": "ipython3",
   "version": "3.7.12"
  },
  "papermill": {
   "default_parameters": {},
   "duration": 9.808276,
   "end_time": "2022-05-18T13:58:08.973934",
   "environment_variables": {},
   "exception": null,
   "input_path": "__notebook__.ipynb",
   "output_path": "__notebook__.ipynb",
   "parameters": {},
   "start_time": "2022-05-18T13:57:59.165658",
   "version": "2.3.4"
  }
 },
 "nbformat": 4,
 "nbformat_minor": 5
}
