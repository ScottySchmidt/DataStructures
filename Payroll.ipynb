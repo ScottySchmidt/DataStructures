{
 "cells": [
  {
   "cell_type": "markdown",
   "id": "d2bc2379",
   "metadata": {
    "papermill": {
     "duration": 0.009754,
     "end_time": "2022-05-19T19:17:52.425774",
     "exception": false,
     "start_time": "2022-05-19T19:17:52.416020",
     "status": "completed"
    },
    "tags": []
   },
   "source": [
    "# Employee Payroll\n",
    "Illinois State University | DataStructures | Scott Schmidt\n",
    "\n",
    "#### HourlyEmployee Class\n",
    "This class must have exactly the following instance variables (attributes/fields):\n",
    "* name: the full name of the employee\n",
    "* employeeID: the employee’s company ID number (note that this may include letters)\n",
    "* hourlyRate: the amount the employee is paid per hour\n",
    "* accruedLeaveHours: the number of hours of leave the employee has available to use. These will be accrued at the rate of 1 per 8 hours worked (including overtime). Note that partial hours are possible.\n",
    "* annualHoursWorked: the number of hours the employee has worked year-to-date. Only hours actually worked are included, not leave.\n",
    "* annualEarnings: the amount the employee has earned year-to-date."
   ]
  },
  {
   "cell_type": "code",
   "execution_count": 1,
   "id": "b380011e",
   "metadata": {
    "execution": {
     "iopub.execute_input": "2022-05-19T19:17:52.443506Z",
     "iopub.status.busy": "2022-05-19T19:17:52.442840Z",
     "iopub.status.idle": "2022-05-19T19:17:52.465352Z",
     "shell.execute_reply": "2022-05-19T19:17:52.464467Z"
    },
    "papermill": {
     "duration": 0.03423,
     "end_time": "2022-05-19T19:17:52.468069",
     "exception": false,
     "start_time": "2022-05-19T19:17:52.433839",
     "status": "completed"
    },
    "tags": []
   },
   "outputs": [],
   "source": [
    "class HourlyEmployee:\n",
    "    empCount = 0\n",
    "    \"\"\"\n",
    "    A default constructor\n",
    "    A constructor that accepts only the name, id, and hourly rate, setting other fields to 0. This would be appropriately used for new employees.\n",
    "    A constructor that accepts parameter for all instance variables.\n",
    "    \"\"\"\n",
    "    def __init__(self, name=None, employeeID=None, hourlyRate=0,\n",
    "                 accruedLeaveHours=0, annualHoursWorked=0, annualEarnings=0):\n",
    "        self.name = name\n",
    "        self.employeeID=employeeID\n",
    "        self.hourlyRate=hourlyRate\n",
    "        self.accruedLeaveHours=accruedLeaveHours\n",
    "        self.annualHoursWorked=annualHoursWorked\n",
    "        self.annualEarnings=annualEarnings\n",
    "        HourlyEmployee.empCount += 1\n",
    "        print(name, \" added. ID: \", employeeID, \" $\", hourlyRate)\n",
    "        \n",
    "    def getEmployeeID(self):\n",
    "        \"\"\"\n",
    "        getEmployeeID\n",
    "        :return employeeID\n",
    "        \"\"\"\n",
    "        return self.employeeID\n",
    "        \n",
    "    def toString(self):\n",
    "        \"\"\"\n",
    "        toString  \n",
    "        :returns the data with labels and formatting that matches the sample output.\n",
    "        \"\"\"\n",
    "        return self.name,  self.employeeID,  self.hourlyRate, self.accruedLeaveHours, self.annualHoursWorked, self.annualEarnings\n",
    "    \n",
    "    def read(self, file):\n",
    "        \"\"\"\n",
    "        A read method that accepts a Scanner and reads the data for the employee from the Scanner. \n",
    "        Information about an employee will be stored on two lines. \n",
    "        The first will contain the employee’s name.\n",
    "        The second will have the remaining data in the order listed above. \n",
    "        See the sample files provided. \n",
    "        You should assume that the id will never contain spaces.\n",
    "        \"\"\"\n",
    "        lists=[]\n",
    "        try:\n",
    "            print(\"Reading File\")\n",
    "            f = open(file, 'r')\n",
    "            lines = f.readlines() # get all lines as a list (array)\n",
    "            name=None\n",
    "            count=0\n",
    "            for line in lines:\n",
    "                if count%2==0:\n",
    "                    name=line[:-1]\n",
    "                    count=count+1\n",
    "                else:\n",
    "                    info=line\n",
    "                    split=info.split(\" \")\n",
    "                    empID=split[0]\n",
    "                    hourlyRate=float(info[1])\n",
    "                    accruedLeaveHours=float(info[2])\n",
    "                    annualHoursWorked=float(info[3])\n",
    "                    annualEarnings=float(info[4])\n",
    "                    tempList=[name, empID, hourlyRate, accruedLeaveHours,\n",
    "                                  annualHoursWorked, annualEarnings]\n",
    "                    #print(tempList)\n",
    "                    lists.append(tempList)\n",
    "                    name=None\n",
    "                    count=count+1\n",
    "            return lists\n",
    "            f.close()\n",
    "            print(\"File Closed.\")\n",
    "            \n",
    "        except FileNotFoundError:\n",
    "            print(file, \" file not found\")\n",
    "        except OSError:\n",
    "            print(file, \" file error\")\n",
    "\n",
    "    #PrintWriter and writes the data to that PrintWriter in the same format as it is read.\n",
    "    def write(self, file, content):\n",
    "        \"\"\"\n",
    "        Write method that accepts a Scanner and reads the data for the employee from the Scanner. \n",
    "        Information about an employee will be stored on two lines. \n",
    "        The first will contain the employee’s name.\n",
    "        The second will have the remaining data in the order listed above. \n",
    "        See the sample files provided. \n",
    "        You should assume that the id will never contain spaces.\n",
    "        \"\"\"\n",
    "        try:\n",
    "            f = open(file, \"a\")\n",
    "            f.write(content)\n",
    "            f.close()\n",
    "            print(content, \" added to file\")\n",
    "        except FileNotFoundError:\n",
    "            print(file, \" file not found\")\n",
    "        except OSError:\n",
    "            print(file, \" file error\")\n",
    "    \n",
    "    def handlePay(self, weeklyHours, accruedLeaveHours):\n",
    "        \"\"\"\n",
    "        handlePay will compute pay; update leave accrued, annual hours worked, annual earnings.\n",
    "        :param1: weeklyHours: the number of hours worked for the week \n",
    "        :param2: accruedLeaveHours: the amount of leave used that week\n",
    "    \n",
    "        Output the following information:\n",
    "        <name> earned <pay for the week> and has <accrued leave> hours of leave accrued.\n",
    "        \"\"\"\n",
    "        self.annualHoursWorked+=weeklyHours\n",
    "        \n",
    "        weeklyPay=0\n",
    "        if weeklyHours<40:\n",
    "            weeklyPay=self.annualHoursWorked*self.hourlyRate\n",
    "        else:\n",
    "            overtimeHours=weeklyHours-20\n",
    "            overtimePay=overtimeHours*self.hourlyRate\n",
    "            weeklyPay=(weeklyHours*self.hourlyRate)+overtimePay\n",
    "        \n",
    "        self.accruedLeaveHours-=accruedLeaveHours\n",
    "        self.annualEarnings+=weeklyPay\n",
    "\n",
    "        print(self.name, \" earned \", weeklyPay, \" and has \",\n",
    "              self.accruedLeaveHours, \" hours of leave accrued.\")"
   ]
  },
  {
   "cell_type": "markdown",
   "id": "d3d71319",
   "metadata": {
    "papermill": {
     "duration": 0.011753,
     "end_time": "2022-05-19T19:17:52.488698",
     "exception": false,
     "start_time": "2022-05-19T19:17:52.476945",
     "status": "completed"
    },
    "tags": []
   },
   "source": [
    "## EmployeeTester"
   ]
  },
  {
   "cell_type": "code",
   "execution_count": 2,
   "id": "5d12a7af",
   "metadata": {
    "_kg_hide-output": true,
    "execution": {
     "iopub.execute_input": "2022-05-19T19:17:52.506431Z",
     "iopub.status.busy": "2022-05-19T19:17:52.505424Z",
     "iopub.status.idle": "2022-05-19T19:17:52.534677Z",
     "shell.execute_reply": "2022-05-19T19:17:52.533834Z"
    },
    "papermill": {
     "duration": 0.040682,
     "end_time": "2022-05-19T19:17:52.536752",
     "exception": false,
     "start_time": "2022-05-19T19:17:52.496070",
     "status": "completed"
    },
    "tags": []
   },
   "outputs": [
    {
     "name": "stdout",
     "output_type": "stream",
     "text": [
      "John Doe  added. ID:  B0001  $ 20\n",
      "ID (should be B0001): B0001\n",
      "Margaret Brennan  added. ID:  A1000  $ 15\n",
      "John Doe  earned  1200  and has  10  hours of leave accrued.\n",
      "('John Doe', 'B0001', 20, 10, 90, 2200)\n",
      "Margaret Brennan  earned  1050  and has  0  hours of leave accrued.\n",
      "('Margaret Brennan', 'A1000', 15, 0, 45, 1050)\n",
      "None  added. ID:  None  $ 0\n",
      "Reading File\n",
      "Mary Smith  added. ID:  A5102  $ 5.0\n",
      "Mary Smith  earned  120.0  and has  -15.0  hours of leave accrued.\n",
      "John Jones  added. ID:  B6820  $ 6.0\n",
      "John Jones  earned  246.0  and has  6.0  hours of leave accrued.\n",
      "Robert Doe  added. ID:  A1001  $ 1.0\n",
      "Robert Doe  earned  25.0  and has  -25.0  hours of leave accrued.\n"
     ]
    }
   ],
   "source": [
    "if __name__ == \"__main__\":\n",
    "    #create an employee using all arguments\n",
    "    emp1=HourlyEmployee(\"John Doe\", \"B0001\", 20, 10, 50, 1000);\n",
    "    print(\"ID (should be B0001): \" + emp1.getEmployeeID());\n",
    "    \n",
    "     #create a new employee -- no history\n",
    "    emp2 = HourlyEmployee(\"Margaret Brennan\", \"A1000\", 15);\n",
    "    \n",
    "    #now we need to test the handle pay method\n",
    "    #first a simple case -- emp1 works 40 hours, using no leave\n",
    "    emp1.handlePay(40, 0);\n",
    "    #be sure to print the toString to make sure the object was updated correctly\n",
    "    print(emp1.toString());\n",
    "\n",
    "    #then a case overtime using no leave, emp2 works 45 hours, using no leave\n",
    "    emp2.handlePay(45, 0)\n",
    "    print(emp2.toString());\n",
    "    \n",
    "    #Now let's do a case where the leave is more than the employee has available\n",
    "    #emp3 works 24 hours, using 16 hours leave\n",
    "    empFile1=r'/kaggle/input/paydata/empData1.txt'\n",
    "    empList=HourlyEmployee().read(empFile1)\n",
    "  \n",
    "    #emp3.handlePay(24, 16)\n",
    "    e3=empList[0]\n",
    "    emp3=HourlyEmployee(e3[0], e3[1], e3[2], e3[3], e3[4], e3[5])\n",
    "    emp3.handlePay(24, 16)\n",
    "    \n",
    "    #Now we need a case where the leave is limited because it pushed the total over 40 hours\n",
    "    #emp4 works 39 hours, using 2 hours leave\n",
    "    e4=empList[1]\n",
    "    emp4=HourlyEmployee(e4[0], e4[1], e4[2], e4[3], e4[4], e4[5])\n",
    "    emp4.handlePay(39, 2)\n",
    "\n",
    "    #And finally we need a case where the leave is limited for both reasons\n",
    "    #emp5 works 25 hours, using 25 hours leave\n",
    "    e5=empList[2]\n",
    "    emp5=HourlyEmployee(e5[0], e5[1], e5[2], e5[3], e5[4], e5[5])\n",
    "    emp5.handlePay(25, 25)\n",
    "\n",
    "    #Finally, let's make sure we can read in what we wrote -- we'll just do the first two\n",
    "    #this time we'll do everything in the try"
   ]
  },
  {
   "cell_type": "markdown",
   "id": "65d70676",
   "metadata": {
    "papermill": {
     "duration": 0.006804,
     "end_time": "2022-05-19T19:17:52.551149",
     "exception": false,
     "start_time": "2022-05-19T19:17:52.544345",
     "status": "completed"
    },
    "tags": []
   },
   "source": [
    "#### Payroll Class\n",
    "The Payroll class must have the following instance variables:\n",
    "* An array of HourlyEmployee objects that the Payroll object manages\n",
    "* The number of employees currently in the Payroll\n",
    "\n",
    "You may assume that there will never be more than 100 employees."
   ]
  },
  {
   "cell_type": "code",
   "execution_count": 3,
   "id": "cfc98c1a",
   "metadata": {
    "execution": {
     "iopub.execute_input": "2022-05-19T19:17:52.566868Z",
     "iopub.status.busy": "2022-05-19T19:17:52.566627Z",
     "iopub.status.idle": "2022-05-19T19:17:52.574343Z",
     "shell.execute_reply": "2022-05-19T19:17:52.573710Z"
    },
    "papermill": {
     "duration": 0.017649,
     "end_time": "2022-05-19T19:17:52.576013",
     "exception": false,
     "start_time": "2022-05-19T19:17:52.558364",
     "status": "completed"
    },
    "tags": []
   },
   "outputs": [],
   "source": [
    "class Payroll:\n",
    "    HourlyEmployee=[]\n",
    "    \n",
    "    #A default constructor\n",
    "    def __init__(self):\n",
    "        pass\n",
    "     \n",
    "    def readFile(self, file):\n",
    "        \"\"\"\n",
    "        A readFile method that accepts a file name parameter (as a String) \n",
    "        and reads the Employee data in the file into the array of employees. \n",
    "        The file will data will be in the format expected by the HourlyEmployee’s read method. \n",
    "        This method must replace any previous contents of the array.\n",
    "        \"\"\"\n",
    "        try:\n",
    "            f = open(file, 'r').read()\n",
    "            return f\n",
    "        except FileNotFoundError:\n",
    "            print(file, \" file not found\")\n",
    "        except OSError:\n",
    "            print(file, \" file error\")\n",
    "      \n",
    "    def writeFile(self, file): \n",
    "        \"\"\"\n",
    "        writeFile employee array to the corresponding file in the \n",
    "        format used by the HourlyEmployee’s read and write methods.\n",
    "        :param: String file \n",
    "        \"\"\"\n",
    "        try:\n",
    "            f = open(file, \"a\")\n",
    "            f.write(\"Now the file has more content!\")\n",
    "            f.close()\n",
    "            print(\"writing on file: \", file)\n",
    "        except FileNotFoundError:\n",
    "            print(file, \" file not found\")\n",
    "        except OSError:\n",
    "            print(file, \" file error\")\n",
    "\n",
    "    def addEmployee():\n",
    "        \"\"\"\n",
    "        addEmployee will add an employee to the array\n",
    "        @param HourlyEmployee\n",
    "        \"\"\"\n",
    "        pass\n",
    "    \n",
    "    def displayEmployee(employeeID):\n",
    "        \"\"\"\n",
    "        displayEmployee displays the employee to the screen in the format of the HourlyEmployee toString.\n",
    "        :param: String employee id \n",
    "        \"\"\"\n",
    "        pass\n",
    "    \n",
    "    def displayEmployees():\n",
    "        \"\"\"\n",
    "        displayEmployees A displayAllEmployees method that displays all of the employees in \n",
    "        the array to the screen in the format of the HourlyEmployee toString.\n",
    "        \"\"\"\n",
    "        pass\n",
    " \n",
    "    def runPayroll(file):\n",
    "        \"\"\"\n",
    "        runPayroll method that accepts a file name parameter (as a String) \n",
    "        and handles weekly payroll based on the information in the file. \n",
    "        Each line of the file will have an employee id followed by the number of hours worked \n",
    "        and the number of hours of leave used that week.\n",
    "        The method will handle the pay for each employee who worked that week using the information from the file. \n",
    "        If the file is not found, the method should print an error message, but should not exit the program.\n",
    "        \"\"\"\n",
    "        pass"
   ]
  },
  {
   "cell_type": "markdown",
   "id": "9720b7c1",
   "metadata": {
    "papermill": {
     "duration": 0.006643,
     "end_time": "2022-05-19T19:17:52.589968",
     "exception": false,
     "start_time": "2022-05-19T19:17:52.583325",
     "status": "completed"
    },
    "tags": []
   },
   "source": [
    "# PayrollTester"
   ]
  },
  {
   "cell_type": "code",
   "execution_count": 4,
   "id": "97de279b",
   "metadata": {
    "execution": {
     "iopub.execute_input": "2022-05-19T19:17:52.605999Z",
     "iopub.status.busy": "2022-05-19T19:17:52.605463Z",
     "iopub.status.idle": "2022-05-19T19:17:52.628547Z",
     "shell.execute_reply": "2022-05-19T19:17:52.627451Z"
    },
    "papermill": {
     "duration": 0.033775,
     "end_time": "2022-05-19T19:17:52.630648",
     "exception": false,
     "start_time": "2022-05-19T19:17:52.596873",
     "status": "completed"
    },
    "tags": []
   },
   "outputs": [
    {
     "name": "stdout",
     "output_type": "stream",
     "text": [
      "writing on file:  demofile2.txt\n"
     ]
    }
   ],
   "source": [
    "if __name__ == \"__main__\":\n",
    "    payFile1='/kaggle/input/paydata/paydata1.txt'\n",
    "    payFile2='/kaggle/input/paydata/paydata2.txt'\n",
    "    payFile3='/kaggle/input/paydata/paydata3.txt'\n",
    "   \n",
    "    payroll=Payroll()\n",
    "    payroll.readFile(payFile1)\n",
    "    payroll.readFile(payFile2)\n",
    "    payroll.readFile(payFile3)\n",
    "    payroll.writeFile(\"demofile2.txt\")"
   ]
  }
 ],
 "metadata": {
  "kernelspec": {
   "display_name": "Python 3",
   "language": "python",
   "name": "python3"
  },
  "language_info": {
   "codemirror_mode": {
    "name": "ipython",
    "version": 3
   },
   "file_extension": ".py",
   "mimetype": "text/x-python",
   "name": "python",
   "nbconvert_exporter": "python",
   "pygments_lexer": "ipython3",
   "version": "3.7.12"
  },
  "papermill": {
   "default_parameters": {},
   "duration": 9.776428,
   "end_time": "2022-05-19T19:17:53.259145",
   "environment_variables": {},
   "exception": null,
   "input_path": "__notebook__.ipynb",
   "output_path": "__notebook__.ipynb",
   "parameters": {},
   "start_time": "2022-05-19T19:17:43.482717",
   "version": "2.3.4"
  }
 },
 "nbformat": 4,
 "nbformat_minor": 5
}
