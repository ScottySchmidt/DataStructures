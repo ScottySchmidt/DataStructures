{
 "cells": [
  {
   "cell_type": "markdown",
   "id": "18150506",
   "metadata": {
    "papermill": {
     "duration": 0.007719,
     "end_time": "2022-05-17T17:47:57.734378",
     "exception": false,
     "start_time": "2022-05-17T17:47:57.726659",
     "status": "completed"
    },
    "tags": []
   },
   "source": [
    "# Data Structures\n",
    "\n",
    "Use the UML class diagrams for the Notebook and Inventory classes and the method descriptions."
   ]
  },
  {
   "cell_type": "markdown",
   "id": "565fcd60",
   "metadata": {
    "papermill": {
     "duration": 0.006216,
     "end_time": "2022-05-17T17:47:57.747207",
     "exception": false,
     "start_time": "2022-05-17T17:47:57.740991",
     "status": "completed"
    },
    "tags": []
   },
   "source": [
    "### Notebook\n",
    "- serialNo: int\n",
    "- brandName: String\n",
    "- screenSize: double\n",
    "- price: double\n",
    "- quantity: int\n",
    "+ Notebook()\n",
    "+ getSerialNo(): int\n",
    "+ getPrice(): double\n",
    "+ getBrandName(): String\n",
    "+ getScreenSize(): double\n",
    "+ getQuantity(): int\n",
    "+ toString(): String\n",
    "\n",
    "### Inventory\n",
    "- listOfNotebooks: Notebook[]\n",
    "- count: int\n",
    "+ Inventory()\n",
    "+ addNotebook(Notebook notebook): void\n",
    "+ readFile(String filename): void\n",
    "+ writeToFile(String filename): void\n",
    "+ displayInventory(): void\n",
    "+ calculateTotalCost(): double"
   ]
  },
  {
   "cell_type": "markdown",
   "id": "ce6c3a48",
   "metadata": {
    "papermill": {
     "duration": 0.005964,
     "end_time": "2022-05-17T17:47:57.759384",
     "exception": false,
     "start_time": "2022-05-17T17:47:57.753420",
     "status": "completed"
    },
    "tags": []
   },
   "source": [
    "1) Declare the instance variables and write the Default (no-arg) constructor. Create the listOfNotebooks array in the default constructor. There will be no more than 50 Notebook instances that will be stored in the array."
   ]
  },
  {
   "cell_type": "code",
   "execution_count": 1,
   "id": "e7a20c34",
   "metadata": {
    "execution": {
     "iopub.execute_input": "2022-05-17T17:47:57.774019Z",
     "iopub.status.busy": "2022-05-17T17:47:57.773447Z",
     "iopub.status.idle": "2022-05-17T17:47:57.789710Z",
     "shell.execute_reply": "2022-05-17T17:47:57.789101Z"
    },
    "papermill": {
     "duration": 0.026262,
     "end_time": "2022-05-17T17:47:57.791916",
     "exception": false,
     "start_time": "2022-05-17T17:47:57.765654",
     "status": "completed"
    },
    "tags": []
   },
   "outputs": [],
   "source": [
    "class Notebook:\n",
    "    notebookArr=[None] * 50\n",
    "    def __init__(self, serialNo, brandName,  screenSize, price, quantity):\n",
    "        self.serialNo=serialNo\n",
    "        self.brandName=brandName\n",
    "        self.screenSize=screenSize\n",
    "        self.price=price\n",
    "        self.quantity=quantity \n",
    "        \n",
    "    def getSerialNo(self):\n",
    "        return self.serialNo\n",
    "        \n",
    "    def getPrice(self):\n",
    "        return self.price\n",
    "    \n",
    "    def getBrandName(self):\n",
    "        return self.brandName\n",
    "    \n",
    "    def getScreenSize(self):\n",
    "        return self.screenSize\n",
    "    \n",
    "    def getQuantity(self):\n",
    "        return self.quantity\n",
    "    \n",
    "    def toString(self):\n",
    "        print(self.serialNo,\" SerialNo with price $\", self.price)\n",
    "    \n",
    "    def addNotebook():\n",
    "        '''\n",
    "        This method will add a new Notebook object to the listOfNotebooks. \n",
    "        If the array is full, display a message “No more notebooks can be added.\n",
    "        '''\n",
    "        n1 = Notebook(123, \"note1\", 55, 2.43, 2)\n",
    "        n1.getPrice()\n",
    "        n1.getScreenSize()\n",
    "        n1.toString()\n",
    "    \n",
    "    def readFile(file):\n",
    "        '''\n",
    "        This method will accept the name of the file to read as a parameter for an \n",
    "        unknown number of Notebook data from a file called Notebooks.txt into the array listOfNotebooks \n",
    "        in the same class and handle any exceptions. Each item in the file has the following format, \n",
    "        one immediately after the other. \n",
    "        '''\n",
    "        pass\n",
    "    \n",
    "    def writeFile(file):\n",
    "        '''\n",
    "        This method will accept as a parameter the name of the file to write to. \n",
    "        It will write the contents of the array(which is stored in this class) \n",
    "        to the output file UpdatedNotebooks.txt. Handle possible exceptions.\n",
    "        '''\n",
    "        pass\n",
    "    \n",
    "    def displayInventory():\n",
    "        '''\n",
    "        Write the method displayInventory() that displays \n",
    "        all the information about all the items in the listOfNotebooks .\n",
    "        Use the toString() method of the Notebook class to format the output. \n",
    "        The toString() method of the Notebook class will be used to format \n",
    "        and write Notebook data into the output file. Do not write the toString() method.\n",
    "        '''"
   ]
  },
  {
   "cell_type": "markdown",
   "id": "41aa0c3d",
   "metadata": {
    "papermill": {
     "duration": 0.005999,
     "end_time": "2022-05-17T17:47:57.804295",
     "exception": false,
     "start_time": "2022-05-17T17:47:57.798296",
     "status": "completed"
    },
    "tags": []
   },
   "source": [
    "2. Write the method addNotebook(). This method will add a new Notebook object to the listOfNotebooks. If the array is full, display a message “No more notebooks can be added."
   ]
  },
  {
   "cell_type": "markdown",
   "id": "e6e49da1",
   "metadata": {
    "papermill": {
     "duration": 0.006176,
     "end_time": "2022-05-17T17:47:57.816763",
     "exception": false,
     "start_time": "2022-05-17T17:47:57.810587",
     "status": "completed"
    },
    "tags": []
   },
   "source": [
    "3. Write the method readFile(). This method will accept the name of the file to read as a parameter for an unknown number of Notebook data from a file called Notebooks.txt into the array listOfNotebooks in the same class and handle any exceptions. Each item in the file has the following format, one immediately after the other. \n",
    "\n",
    "<serialNo> \n",
    "<brandName> \n",
    "<screenSize> <price> <quantity>\n",
    "    \n",
    "Write the method writetoFile(). This method will accept as a parameter the name of the file to write to. It will write the contents of the array(which is stored in this class) to the output file UpdatedNotebooks.txt. Remember to handle possible exceptions."
   ]
  },
  {
   "cell_type": "markdown",
   "id": "afeaa030",
   "metadata": {
    "papermill": {
     "duration": 0.005786,
     "end_time": "2022-05-17T17:47:57.828891",
     "exception": false,
     "start_time": "2022-05-17T17:47:57.823105",
     "status": "completed"
    },
    "tags": []
   },
   "source": [
    "4. Write the method displayInventory() that displays all the information about all the items in the listOfNotebooks . Use the toString() method of the Notebook class to format the output. The toString() method of the Notebook class will be used to format and write Notebook data into the output file. Do not write the toString() method.\n",
    "\n",
    "5. Write the method calculateTotalCost() that calculates the total inventory value of all of the items on the ListOfNotebooks.\n",
    "\n",
    "6.  Write a static method searchNotebookPrice() that accepts two parameters, a Notebook array and a notebook serialNo. The method will search the Notebook array for the notebook with the specified serialNo and return the notebook’s price. If the notebook isnot found, return -1.0. "
   ]
  }
 ],
 "metadata": {
  "kernelspec": {
   "display_name": "Python 3",
   "language": "python",
   "name": "python3"
  },
  "language_info": {
   "codemirror_mode": {
    "name": "ipython",
    "version": 3
   },
   "file_extension": ".py",
   "mimetype": "text/x-python",
   "name": "python",
   "nbconvert_exporter": "python",
   "pygments_lexer": "ipython3",
   "version": "3.7.12"
  },
  "papermill": {
   "default_parameters": {},
   "duration": 11.205741,
   "end_time": "2022-05-17T17:47:58.455683",
   "environment_variables": {},
   "exception": null,
   "input_path": "__notebook__.ipynb",
   "output_path": "__notebook__.ipynb",
   "parameters": {},
   "start_time": "2022-05-17T17:47:47.249942",
   "version": "2.3.4"
  }
 },
 "nbformat": 4,
 "nbformat_minor": 5
}
