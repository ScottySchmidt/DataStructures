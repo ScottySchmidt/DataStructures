{
 "cells": [
  {
   "cell_type": "markdown",
   "id": "08eadb94",
   "metadata": {
    "papermill": {
     "duration": 0.003241,
     "end_time": "2022-06-14T17:29:10.879783",
     "exception": false,
     "start_time": "2022-06-14T17:29:10.876542",
     "status": "completed"
    },
    "tags": []
   },
   "source": [
    "# Linked Lists Data Structures\n",
    "Illinois State University; Scott Schmidt"
   ]
  },
  {
   "cell_type": "code",
   "execution_count": null,
   "id": "40df9aa6",
   "metadata": {
    "papermill": {
     "duration": 0.001857,
     "end_time": "2022-06-14T17:29:10.883984",
     "exception": false,
     "start_time": "2022-06-14T17:29:10.882127",
     "status": "completed"
    },
    "tags": []
   },
   "outputs": [],
   "source": []
  },
  {
   "cell_type": "code",
   "execution_count": 1,
   "id": "e9bc8f3a",
   "metadata": {
    "execution": {
     "iopub.execute_input": "2022-06-14T17:29:10.891063Z",
     "iopub.status.busy": "2022-06-14T17:29:10.890306Z",
     "iopub.status.idle": "2022-06-14T17:29:10.914658Z",
     "shell.execute_reply": "2022-06-14T17:29:10.913500Z"
    },
    "papermill": {
     "duration": 0.031486,
     "end_time": "2022-06-14T17:29:10.917725",
     "exception": false,
     "start_time": "2022-06-14T17:29:10.886239",
     "status": "completed"
    },
    "tags": []
   },
   "outputs": [
    {
     "name": "stdout",
     "output_type": "stream",
     "text": [
      "Given Linked List:\n",
      "55\n",
      "16\n",
      "6\n",
      "23\n",
      "\n",
      "Reversed Linked List:\n",
      "23\n",
      "6\n",
      "16\n",
      "55\n",
      "\n",
      "addBulk list function:\n",
      "addBulk function:  [123, 555, 87]\n",
      "23\n",
      "6\n",
      "16\n",
      "55\n"
     ]
    }
   ],
   "source": [
    "class Node:\n",
    " \n",
    "    # Constructor to initialize the node object\n",
    "    def __init__(self, data):\n",
    "        self.data = data\n",
    "        self.next = None\n",
    " \n",
    "class LinkedList:\n",
    "    # Function to initialize head\n",
    "    def __init__(self):\n",
    "        self.head = None\n",
    " \n",
    "    # Function to reverse the linked list\n",
    "    def reverse(self):\n",
    "        prev = None\n",
    "        current = self.head\n",
    "        while(current is not None):\n",
    "            next = current.next\n",
    "            current.next = prev\n",
    "            prev = current\n",
    "            current = next\n",
    "        self.head = prev\n",
    " \n",
    "    # Function to insert a new node at the beginning\n",
    "    def push(self, new_data):\n",
    "        new_node = Node(new_data)\n",
    "        new_node.next = self.head\n",
    "        self.head = new_node\n",
    "        \n",
    "    def addBulk(self, arrayList):\n",
    "        '''\n",
    "        addBulk() method inside the class SingleList\n",
    "        :param ArrayList\n",
    "        appends the current SingleList with all the elements that are in the ArrayList parameter.\n",
    "        '''\n",
    "        print(\"addBulk function: \", arrayList)\n",
    "        for num in arrayList:\n",
    "            LinkedList().push(num)\n",
    "            \n",
    "        \n",
    "    # Utility function to print the linked LinkedList\n",
    "    def printList(self):\n",
    "        temp = self.head\n",
    "        while(temp):\n",
    "            print (temp.data)\n",
    "            temp = temp.next\n",
    " \n",
    " \n",
    "# Driver code\n",
    "llist = LinkedList()\n",
    "llist.push(23)\n",
    "llist.push(6)\n",
    "llist.push(16)\n",
    "llist.push(55)\n",
    " \n",
    "print (\"Given Linked List:\")\n",
    "llist.printList()\n",
    "llist.reverse()\n",
    "print (\"\\nReversed Linked List:\")\n",
    "llist.printList()\n",
    "\n",
    "#Add Bulk Function Test:\n",
    "print(\"\\naddBulk list function:\")\n",
    "bList=[123, 555, 87]\n",
    "llist.addBulk(bList)\n",
    "llist.printList()"
   ]
  },
  {
   "cell_type": "markdown",
   "id": "959db77c",
   "metadata": {
    "papermill": {
     "duration": 0.002067,
     "end_time": "2022-06-14T17:29:10.922660",
     "exception": false,
     "start_time": "2022-06-14T17:29:10.920593",
     "status": "completed"
    },
    "tags": []
   },
   "source": [
    "### Question 1\n",
    "Write a method called addBulk() (inside the class SingleList) that will accept an ArrayList as a parameter and appends the current SingleList with all the elements that are in the ArrayList parameter. (you should be creating the method from scratch - you cannot call any of the methods we created before - and take into account any special cases)."
   ]
  },
  {
   "cell_type": "markdown",
   "id": "c26be964",
   "metadata": {
    "papermill": {
     "duration": 0.002158,
     "end_time": "2022-06-14T17:29:10.927121",
     "exception": false,
     "start_time": "2022-06-14T17:29:10.924963",
     "status": "completed"
    },
    "tags": []
   },
   "source": [
    "### Question 2\n",
    "Write a method called reversedList (inside the class SingleList) that will return a reversed version of the current SingleList.(you should be creating the method from scratch -you cannot call any of the methods we created before- and take into account any special cases)."
   ]
  }
 ],
 "metadata": {
  "kernelspec": {
   "display_name": "Python 3",
   "language": "python",
   "name": "python3"
  },
  "language_info": {
   "codemirror_mode": {
    "name": "ipython",
    "version": 3
   },
   "file_extension": ".py",
   "mimetype": "text/x-python",
   "name": "python",
   "nbconvert_exporter": "python",
   "pygments_lexer": "ipython3",
   "version": "3.7.12"
  },
  "papermill": {
   "default_parameters": {},
   "duration": 10.504212,
   "end_time": "2022-06-14T17:29:11.550810",
   "environment_variables": {},
   "exception": null,
   "input_path": "__notebook__.ipynb",
   "output_path": "__notebook__.ipynb",
   "parameters": {},
   "start_time": "2022-06-14T17:29:01.046598",
   "version": "2.3.4"
  }
 },
 "nbformat": 4,
 "nbformat_minor": 5
}
