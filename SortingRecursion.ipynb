{
 "cells": [
  {
   "cell_type": "markdown",
   "id": "14667275",
   "metadata": {
    "papermill": {
     "duration": 0.00336,
     "end_time": "2022-08-02T18:49:56.895774",
     "exception": false,
     "start_time": "2022-08-02T18:49:56.892414",
     "status": "completed"
    },
    "tags": []
   },
   "source": [
    "# Sorting Recursion; Data Structures\n",
    "#### Scott Schmidt; Illinois State University"
   ]
  },
  {
   "cell_type": "code",
   "execution_count": 1,
   "id": "95e2c7f3",
   "metadata": {
    "_cell_guid": "b1076dfc-b9ad-4769-8c92-a6c4dae69d19",
    "_uuid": "8f2839f25d086af736a60e9eeb907d3b93b6e0e5",
    "execution": {
     "iopub.execute_input": "2022-08-02T18:49:56.902326Z",
     "iopub.status.busy": "2022-08-02T18:49:56.901506Z",
     "iopub.status.idle": "2022-08-02T18:49:56.921026Z",
     "shell.execute_reply": "2022-08-02T18:49:56.919312Z"
    },
    "papermill": {
     "duration": 0.026533,
     "end_time": "2022-08-02T18:49:56.924654",
     "exception": false,
     "start_time": "2022-08-02T18:49:56.898121",
     "status": "completed"
    },
    "tags": []
   },
   "outputs": [
    {
     "name": "stdout",
     "output_type": "stream",
     "text": [
      "[0, 4, 1, 3, 9, 5]\n",
      "The maximum number in the list is: 9\n",
      "The minimm number in the list is: 0\n"
     ]
    },
    {
     "data": {
      "text/plain": [
       "0"
      ]
     },
     "execution_count": 1,
     "metadata": {},
     "output_type": "execute_result"
    }
   ],
   "source": [
    "nums = [0, 4, 1, 3, 9, 5]\n",
    "def maxxx():\n",
    "    maxy = -999_999\n",
    "    for num in nums:\n",
    "        if num > maxy:\n",
    "            maxy = num\n",
    "    print(\"The maximum number in the list is:\", maxy)\n",
    "    return maxy\n",
    "\n",
    "def minnn():\n",
    "    miny =  999_999\n",
    "    for num in nums:\n",
    "        if num < miny:\n",
    "            miny = num\n",
    "    print (\"The minimm number in the list is:\", miny)\n",
    "    return miny\n",
    "\n",
    "print(nums)\n",
    "maxxx()\n",
    "minnn()"
   ]
  },
  {
   "cell_type": "code",
   "execution_count": 2,
   "id": "75e7caf7",
   "metadata": {
    "execution": {
     "iopub.execute_input": "2022-08-02T18:49:56.930978Z",
     "iopub.status.busy": "2022-08-02T18:49:56.930204Z",
     "iopub.status.idle": "2022-08-02T18:49:56.940228Z",
     "shell.execute_reply": "2022-08-02T18:49:56.938559Z"
    },
    "papermill": {
     "duration": 0.016036,
     "end_time": "2022-08-02T18:49:56.942844",
     "exception": false,
     "start_time": "2022-08-02T18:49:56.926808",
     "status": "completed"
    },
    "tags": []
   },
   "outputs": [
    {
     "name": "stdout",
     "output_type": "stream",
     "text": [
      "0.0  seconds\n",
      "grade_list after sorting:  [22, 45, 77, 79, 81, 85, 89, 91, 92, 94]\n"
     ]
    }
   ],
   "source": [
    "import time\n",
    "def selection_sort(the_list):\n",
    "    start = time.time()\n",
    "    n = len(the_list)    \n",
    "\n",
    "    for i in range(n - 1):\n",
    "        smallest = i\n",
    "\n",
    "        for j in range(i, n):\n",
    "            if the_list[j] < the_list[smallest]:\n",
    "                smallest = j\n",
    "        #Swap\n",
    "        (the_list[i], the_list[smallest]) = (the_list[smallest], the_list[i])\n",
    "        \n",
    "    end=time.time()\n",
    "    print( round(end-start, 4), \" seconds\") \n",
    "\n",
    "the_list = [89, 45, 85, 81, 77, 94, 22, 79, 92, 91]\n",
    "selection_sort(the_list)\n",
    "print(\"grade_list after sorting:  \" + str(the_list))"
   ]
  }
 ],
 "metadata": {
  "kernelspec": {
   "display_name": "Python 3",
   "language": "python",
   "name": "python3"
  },
  "language_info": {
   "codemirror_mode": {
    "name": "ipython",
    "version": 3
   },
   "file_extension": ".py",
   "mimetype": "text/x-python",
   "name": "python",
   "nbconvert_exporter": "python",
   "pygments_lexer": "ipython3",
   "version": "3.7.12"
  },
  "papermill": {
   "default_parameters": {},
   "duration": 9.907527,
   "end_time": "2022-08-02T18:49:57.566878",
   "environment_variables": {},
   "exception": null,
   "input_path": "__notebook__.ipynb",
   "output_path": "__notebook__.ipynb",
   "parameters": {},
   "start_time": "2022-08-02T18:49:47.659351",
   "version": "2.3.4"
  }
 },
 "nbformat": 4,
 "nbformat_minor": 5
}
