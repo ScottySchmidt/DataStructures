{
 "cells": [
  {
   "cell_type": "markdown",
   "id": "6440fa79",
   "metadata": {
    "papermill": {
     "duration": 0.003241,
     "end_time": "2022-08-03T15:23:44.110450",
     "exception": false,
     "start_time": "2022-08-03T15:23:44.107209",
     "status": "completed"
    },
    "tags": []
   },
   "source": [
    "# Sorting Recursion; Data Structures\n",
    "#### Scott Schmidt; Illinois State University"
   ]
  },
  {
   "cell_type": "code",
   "execution_count": 1,
   "id": "bc42942e",
   "metadata": {
    "_cell_guid": "b1076dfc-b9ad-4769-8c92-a6c4dae69d19",
    "_uuid": "8f2839f25d086af736a60e9eeb907d3b93b6e0e5",
    "execution": {
     "iopub.execute_input": "2022-08-03T15:23:44.117459Z",
     "iopub.status.busy": "2022-08-03T15:23:44.116574Z",
     "iopub.status.idle": "2022-08-03T15:23:44.138077Z",
     "shell.execute_reply": "2022-08-03T15:23:44.136731Z"
    },
    "papermill": {
     "duration": 0.028907,
     "end_time": "2022-08-03T15:23:44.141606",
     "exception": false,
     "start_time": "2022-08-03T15:23:44.112699",
     "status": "completed"
    },
    "tags": []
   },
   "outputs": [
    {
     "name": "stdout",
     "output_type": "stream",
     "text": [
      "[0, 4, 1, 3, 9, 5]\n",
      "The maximum number in the list is: 9\n",
      "The minimm number in the list is: 0\n"
     ]
    },
    {
     "data": {
      "text/plain": [
       "0"
      ]
     },
     "execution_count": 1,
     "metadata": {},
     "output_type": "execute_result"
    }
   ],
   "source": [
    "#Find min and max using recursion:\n",
    "nums = [0, 4, 1, 3, 9, 5]\n",
    "def maxxx():\n",
    "    maxy = -999_999\n",
    "    for num in nums:\n",
    "        if num > maxy:\n",
    "            maxy = num\n",
    "    print(\"The maximum number in the list is:\", maxy)\n",
    "    return maxy\n",
    "\n",
    "def minnn():\n",
    "    miny =  999_999\n",
    "    for num in nums:\n",
    "        if num < miny:\n",
    "            miny = num\n",
    "    print (\"The minimm number in the list is:\", miny)\n",
    "    return miny\n",
    "\n",
    "print(nums)\n",
    "maxxx()\n",
    "minnn()"
   ]
  },
  {
   "cell_type": "code",
   "execution_count": 2,
   "id": "9f55f32b",
   "metadata": {
    "execution": {
     "iopub.execute_input": "2022-08-03T15:23:44.148156Z",
     "iopub.status.busy": "2022-08-03T15:23:44.147580Z",
     "iopub.status.idle": "2022-08-03T15:23:44.155821Z",
     "shell.execute_reply": "2022-08-03T15:23:44.154734Z"
    },
    "papermill": {
     "duration": 0.01432,
     "end_time": "2022-08-03T15:23:44.158309",
     "exception": false,
     "start_time": "2022-08-03T15:23:44.143989",
     "status": "completed"
    },
    "tags": []
   },
   "outputs": [
    {
     "name": "stdout",
     "output_type": "stream",
     "text": [
      "0.0  seconds\n",
      "grade_list after sorting:  [22, 45, 77, 79, 81, 85, 89, 91, 92, 94]\n"
     ]
    }
   ],
   "source": [
    "import time\n",
    "def selection_sort(the_list):\n",
    "    start = time.time()\n",
    "    n = len(the_list)    \n",
    "\n",
    "    for i in range(n - 1):\n",
    "        smallest = i\n",
    "\n",
    "        for j in range(i, n):\n",
    "            if the_list[j] < the_list[smallest]:\n",
    "                smallest = j\n",
    "        #Swap\n",
    "        (the_list[i], the_list[smallest]) = (the_list[smallest], the_list[i])\n",
    "        \n",
    "    end=time.time()\n",
    "    print( round(end-start, 4), \" seconds\") \n",
    "\n",
    "the_list = [89, 45, 85, 81, 77, 94, 22, 79, 92, 91]\n",
    "selection_sort(the_list)\n",
    "print(\"grade_list after sorting:  \" + str(the_list))"
   ]
  },
  {
   "cell_type": "code",
   "execution_count": 3,
   "id": "9ee076c1",
   "metadata": {
    "execution": {
     "iopub.execute_input": "2022-08-03T15:23:44.164833Z",
     "iopub.status.busy": "2022-08-03T15:23:44.164245Z",
     "iopub.status.idle": "2022-08-03T15:23:44.172817Z",
     "shell.execute_reply": "2022-08-03T15:23:44.171277Z"
    },
    "papermill": {
     "duration": 0.014286,
     "end_time": "2022-08-03T15:23:44.175245",
     "exception": false,
     "start_time": "2022-08-03T15:23:44.160959",
     "status": "completed"
    },
    "tags": []
   },
   "outputs": [
    {
     "name": "stdout",
     "output_type": "stream",
     "text": [
      "94\n",
      "85\n",
      "89\n",
      "92\n",
      "89\n",
      "91\n",
      "89\n",
      "81\n",
      "85\n",
      "79\n",
      "45\n",
      "77\n",
      "0.0006  seconds\n",
      "grade_list after sorting:  [94, 92, 91, 89, 85, 81, 79, 77, 45, 22]\n"
     ]
    }
   ],
   "source": [
    "import time\n",
    "def selection_sort(the_list):\n",
    "    start = time.time()\n",
    "    n = len(the_list)    \n",
    "\n",
    "    for i in range(n - 1):\n",
    "        smallest = i\n",
    "\n",
    "        for j in range(i, n):\n",
    "            if the_list[j] > the_list[smallest]:\n",
    "                print(the_list[j])\n",
    "                smallest = j\n",
    "        #Swap\n",
    "        (the_list[i], the_list[smallest]) = (the_list[smallest], the_list[i])\n",
    "        \n",
    "    end=time.time()\n",
    "    print( round(end-start, 4), \" seconds\") \n",
    "\n",
    "the_list = [89, 45, 85, 81, 77, 94, 22, 79, 92, 91]\n",
    "selection_sort(the_list)\n",
    "print(\"grade_list after sorting:  \" + str(the_list))"
   ]
  }
 ],
 "metadata": {
  "kernelspec": {
   "display_name": "Python 3",
   "language": "python",
   "name": "python3"
  },
  "language_info": {
   "codemirror_mode": {
    "name": "ipython",
    "version": 3
   },
   "file_extension": ".py",
   "mimetype": "text/x-python",
   "name": "python",
   "nbconvert_exporter": "python",
   "pygments_lexer": "ipython3",
   "version": "3.7.12"
  },
  "papermill": {
   "default_parameters": {},
   "duration": 10.249188,
   "end_time": "2022-08-03T15:23:44.797842",
   "environment_variables": {},
   "exception": null,
   "input_path": "__notebook__.ipynb",
   "output_path": "__notebook__.ipynb",
   "parameters": {},
   "start_time": "2022-08-03T15:23:34.548654",
   "version": "2.3.4"
  }
 },
 "nbformat": 4,
 "nbformat_minor": 5
}
