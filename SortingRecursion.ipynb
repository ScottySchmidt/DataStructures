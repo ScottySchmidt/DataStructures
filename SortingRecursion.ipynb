{
 "cells": [
  {
   "cell_type": "markdown",
   "id": "a51d8be9",
   "metadata": {
    "papermill": {
     "duration": 0.003259,
     "end_time": "2022-08-02T18:27:44.921434",
     "exception": false,
     "start_time": "2022-08-02T18:27:44.918175",
     "status": "completed"
    },
    "tags": []
   },
   "source": [
    "# Sorting Recursion; Data Structures\n",
    "#### Scott Schmidt; Illinois State University"
   ]
  },
  {
   "cell_type": "code",
   "execution_count": 1,
   "id": "ee40f20e",
   "metadata": {
    "_cell_guid": "b1076dfc-b9ad-4769-8c92-a6c4dae69d19",
    "_uuid": "8f2839f25d086af736a60e9eeb907d3b93b6e0e5",
    "execution": {
     "iopub.execute_input": "2022-08-02T18:27:44.927405Z",
     "iopub.status.busy": "2022-08-02T18:27:44.926892Z",
     "iopub.status.idle": "2022-08-02T18:27:44.946215Z",
     "shell.execute_reply": "2022-08-02T18:27:44.945025Z"
    },
    "papermill": {
     "duration": 0.026561,
     "end_time": "2022-08-02T18:27:44.949963",
     "exception": false,
     "start_time": "2022-08-02T18:27:44.923402",
     "status": "completed"
    },
    "tags": []
   },
   "outputs": [
    {
     "name": "stdout",
     "output_type": "stream",
     "text": [
      "[0, 4, 1, 3, 9, 5]\n",
      "The maximum number in the list is: 9\n",
      "The minimm number in the list is: 0\n"
     ]
    },
    {
     "data": {
      "text/plain": [
       "0"
      ]
     },
     "execution_count": 1,
     "metadata": {},
     "output_type": "execute_result"
    }
   ],
   "source": [
    "nums = [0, 4, 1, 3, 9, 5]\n",
    "def maxxx():\n",
    "    maxy = nums[0]\n",
    "    for num in nums:\n",
    "        if num > maxy:\n",
    "            maxy = num\n",
    "    print(\"The maximum number in the list is:\", maxy)\n",
    "    return maxy\n",
    "def minnn():\n",
    "    miny = nums[0]\n",
    "    for num in nums:\n",
    "        if num < miny:\n",
    "            miny = num\n",
    "    print (\"The minimm number in the list is:\", miny)\n",
    "    return miny\n",
    "\n",
    "print(nums)\n",
    "maxxx()\n",
    "minnn()"
   ]
  }
 ],
 "metadata": {
  "kernelspec": {
   "display_name": "Python 3",
   "language": "python",
   "name": "python3"
  },
  "language_info": {
   "codemirror_mode": {
    "name": "ipython",
    "version": 3
   },
   "file_extension": ".py",
   "mimetype": "text/x-python",
   "name": "python",
   "nbconvert_exporter": "python",
   "pygments_lexer": "ipython3",
   "version": "3.7.12"
  },
  "papermill": {
   "default_parameters": {},
   "duration": 10.629817,
   "end_time": "2022-08-02T18:27:45.774623",
   "environment_variables": {},
   "exception": null,
   "input_path": "__notebook__.ipynb",
   "output_path": "__notebook__.ipynb",
   "parameters": {},
   "start_time": "2022-08-02T18:27:35.144806",
   "version": "2.3.4"
  }
 },
 "nbformat": 4,
 "nbformat_minor": 5
}
